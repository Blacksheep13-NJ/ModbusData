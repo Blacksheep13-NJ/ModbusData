{
 "cells": [
  {
   "cell_type": "markdown",
   "id": "23c746f5",
   "metadata": {},
   "source": [
    "## Watch This Video for Complete Guide\n",
    "[![Part-6 | Create ModbusTCP Server in Python | pyModbusTCP |](http://img.youtube.com/vi/6qwUImG_CsE/0.jpg)](https://youtu.be/6qwUImG_CsE?t=1s \"Part-6 | Create ModbusTCP Server in Python | pyModbusTCP |\")"
   ]
  },
  {
   "cell_type": "markdown",
   "id": "deadly-healthcare",
   "metadata": {},
   "source": [
    "# Install Modbus library for python"
   ]
  },
  {
   "cell_type": "code",
   "execution_count": 1,
   "id": "alpha-speaker",
   "metadata": {},
   "outputs": [
    {
     "name": "stdout",
     "output_type": "stream",
     "text": [
      "Requirement already satisfied: pyModbusTCP in c:\\users\\administrator\\appdata\\local\\programs\\python\\python312\\lib\\site-packages (0.3.0)\n"
     ]
    }
   ],
   "source": [
    "!pip install pyModbusTCP"
   ]
  },
  {
   "cell_type": "markdown",
   "id": "caroline-actor",
   "metadata": {},
   "source": [
    "# Import Required Functions from Library"
   ]
  },
  {
   "cell_type": "code",
   "execution_count": 2,
   "id": "missing-diabetes",
   "metadata": {},
   "outputs": [],
   "source": [
    "import socket\n",
    "from pyModbusTCP.server import ModbusServer"
   ]
  },
  {
   "cell_type": "markdown",
   "id": "moral-sunset",
   "metadata": {
    "jp-MarkdownHeadingCollapsed": true
   },
   "source": [
    "# Get System IP address and Define Default PORT-502 for Connection"
   ]
  },
  {
   "cell_type": "code",
   "execution_count": 7,
   "id": "divided-expansion",
   "metadata": {},
   "outputs": [],
   "source": [
    "hostname = socket.gethostname()    \n",
    "server_ip_address = socket.gethostbyname(hostname)\n",
    "server_port = 502"
   ]
  },
  {
   "cell_type": "code",
   "execution_count": 9,
   "id": "temporal-insert",
   "metadata": {},
   "outputs": [
    {
     "name": "stdout",
     "output_type": "stream",
     "text": [
      "[+]Info : IP Address for Modbus Server : 192.168.0.200\n"
     ]
    }
   ],
   "source": [
    "print(f\"[+]Info : IP Address for Modbus Server : {server_ip_address}\")"
   ]
  },
  {
   "cell_type": "markdown",
   "id": "indian-lancaster",
   "metadata": {},
   "source": [
    "# Initiate Server"
   ]
  },
  {
   "cell_type": "code",
   "execution_count": 10,
   "id": "developmental-tulsa",
   "metadata": {},
   "outputs": [
    {
     "data": {
      "text/plain": [
       "\u001b[1;31mInit signature:\u001b[0m\n",
       "\u001b[0mModbusServer\u001b[0m\u001b[1;33m(\u001b[0m\u001b[1;33m\n",
       "\u001b[0m    \u001b[0mhost\u001b[0m\u001b[1;33m=\u001b[0m\u001b[1;34m'localhost'\u001b[0m\u001b[1;33m,\u001b[0m\u001b[1;33m\n",
       "\u001b[0m    \u001b[0mport\u001b[0m\u001b[1;33m=\u001b[0m\u001b[1;36m502\u001b[0m\u001b[1;33m,\u001b[0m\u001b[1;33m\n",
       "\u001b[0m    \u001b[0mno_block\u001b[0m\u001b[1;33m=\u001b[0m\u001b[1;32mFalse\u001b[0m\u001b[1;33m,\u001b[0m\u001b[1;33m\n",
       "\u001b[0m    \u001b[0mipv6\u001b[0m\u001b[1;33m=\u001b[0m\u001b[1;32mFalse\u001b[0m\u001b[1;33m,\u001b[0m\u001b[1;33m\n",
       "\u001b[0m    \u001b[0mdata_bank\u001b[0m\u001b[1;33m=\u001b[0m\u001b[1;32mNone\u001b[0m\u001b[1;33m,\u001b[0m\u001b[1;33m\n",
       "\u001b[0m    \u001b[0mdata_hdl\u001b[0m\u001b[1;33m=\u001b[0m\u001b[1;32mNone\u001b[0m\u001b[1;33m,\u001b[0m\u001b[1;33m\n",
       "\u001b[0m    \u001b[0mext_engine\u001b[0m\u001b[1;33m=\u001b[0m\u001b[1;32mNone\u001b[0m\u001b[1;33m,\u001b[0m\u001b[1;33m\n",
       "\u001b[0m    \u001b[0mdevice_id\u001b[0m\u001b[1;33m=\u001b[0m\u001b[1;32mNone\u001b[0m\u001b[1;33m,\u001b[0m\u001b[1;33m\n",
       "\u001b[0m\u001b[1;33m)\u001b[0m\u001b[1;33m\u001b[0m\u001b[1;33m\u001b[0m\u001b[0m\n",
       "\u001b[1;31mDocstring:\u001b[0m      Modbus TCP server \n",
       "\u001b[1;31mInit docstring:\u001b[0m\n",
       "Constructor\n",
       "\n",
       "Modbus server constructor.\n",
       "\n",
       ":param host: hostname or IPv4/IPv6 address server address (default is 'localhost')\n",
       ":type host: str\n",
       ":param port: TCP port number (default is 502)\n",
       ":type port: int\n",
       ":param no_block: no block mode, i.e. start() will return (default is False)\n",
       ":type no_block: bool\n",
       ":param ipv6: use ipv6 stack (default is False)\n",
       ":type ipv6: bool\n",
       ":param data_bank: instance of custom data bank, if you don't want the default one (optional)\n",
       ":type data_bank: DataBank\n",
       ":param data_hdl: instance of custom data handler, if you don't want the default one (optional)\n",
       ":type data_hdl: DataHandler\n",
       ":param ext_engine: an external engine reference (ref to ext_engine(session_data)) (optional)\n",
       ":type ext_engine: callable\n",
       ":param device_id: instance of DeviceIdentification class for read device identification request (optional)\n",
       ":type device_id: DeviceIdentification\n",
       "\u001b[1;31mFile:\u001b[0m           c:\\users\\shrey.bhatt\\appdata\\local\\packages\\pythonsoftwarefoundation.python.3.12_qbz5n2kfra8p0\\localcache\\local-packages\\python312\\site-packages\\pymodbustcp\\server.py\n",
       "\u001b[1;31mType:\u001b[0m           type\n",
       "\u001b[1;31mSubclasses:\u001b[0m     "
      ]
     },
     "metadata": {},
     "output_type": "display_data"
    }
   ],
   "source": [
    "ModbusServer?"
   ]
  },
  {
   "cell_type": "code",
   "execution_count": 11,
   "id": "hawaiian-intake",
   "metadata": {},
   "outputs": [],
   "source": [
    "server = ModbusServer(server_ip_address,server_port,no_block=True)"
   ]
  },
  {
   "cell_type": "markdown",
   "id": "elect-crazy",
   "metadata": {},
   "source": [
    "# Start Modbus TCP Server"
   ]
  },
  {
   "cell_type": "code",
   "execution_count": 12,
   "id": "living-feature",
   "metadata": {},
   "outputs": [
    {
     "name": "stdout",
     "output_type": "stream",
     "text": [
      "[+]info : Server is Online on IP : 192.168.0.200 and PORT : 502 \n"
     ]
    }
   ],
   "source": [
    "server.start()\n",
    "print(f\"[+]info : Server is Online on IP : {server_ip_address} and PORT : {server_port} \")"
   ]
  },
  {
   "cell_type": "markdown",
   "id": "musical-hygiene",
   "metadata": {},
   "source": [
    "# Check Server is Running !\n",
    "### Return True if Running or Return False if not Running."
   ]
  },
  {
   "cell_type": "code",
   "execution_count": 3,
   "id": "fuzzy-collar",
   "metadata": {},
   "outputs": [
    {
     "ename": "NameError",
     "evalue": "name 'server' is not defined",
     "output_type": "error",
     "traceback": [
      "\u001b[1;31m----------------------------------------------------------\u001b[0m",
      "\u001b[1;31mNameError\u001b[0m                Traceback (most recent call last)",
      "Cell \u001b[1;32mIn[3], line 1\u001b[0m\n\u001b[1;32m----> 1\u001b[0m \u001b[43mserver\u001b[49m\u001b[38;5;241m.\u001b[39mis_run\n",
      "\u001b[1;31mNameError\u001b[0m: name 'server' is not defined"
     ]
    }
   ],
   "source": [
    "server.is_run"
   ]
  },
  {
   "cell_type": "markdown",
   "id": "undefined-receipt",
   "metadata": {},
   "source": [
    "# Stop Modbus TCP Server"
   ]
  },
  {
   "cell_type": "code",
   "execution_count": 7,
   "id": "spatial-recipe",
   "metadata": {},
   "outputs": [],
   "source": [
    "server.stop()"
   ]
  },
  {
   "cell_type": "markdown",
   "id": "grateful-committee",
   "metadata": {},
   "source": [
    "# Check Server is Running !\n",
    "### Return True if Running or Return False if not Running."
   ]
  },
  {
   "cell_type": "code",
   "execution_count": 14,
   "id": "united-procedure",
   "metadata": {},
   "outputs": [
    {
     "data": {
      "text/plain": [
       "True"
      ]
     },
     "execution_count": 14,
     "metadata": {},
     "output_type": "execute_result"
    }
   ],
   "source": [
    "server.is_run"
   ]
  },
  {
   "cell_type": "code",
   "execution_count": null,
   "id": "automatic-seafood",
   "metadata": {},
   "outputs": [],
   "source": []
  }
 ],
 "metadata": {
  "kernelspec": {
   "display_name": "Python 3 (ipykernel)",
   "language": "python",
   "name": "python3"
  },
  "language_info": {
   "codemirror_mode": {
    "name": "ipython",
    "version": 3
   },
   "file_extension": ".py",
   "mimetype": "text/x-python",
   "name": "python",
   "nbconvert_exporter": "python",
   "pygments_lexer": "ipython3",
   "version": "3.12.6"
  }
 },
 "nbformat": 4,
 "nbformat_minor": 5
}
