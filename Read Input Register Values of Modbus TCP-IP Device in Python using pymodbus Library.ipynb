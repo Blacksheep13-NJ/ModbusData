{
 "cells": [
  {
   "cell_type": "markdown",
   "id": "92178ff6-1b8b-4a0a-aacb-823e4303d829",
   "metadata": {},
   "source": [
    "# Install pymodbus library for modbus communication"
   ]
  },
  {
   "cell_type": "code",
   "execution_count": 1,
   "id": "d8c463e7-27c4-49c2-9e1f-9f5a13ac05c5",
   "metadata": {},
   "outputs": [
    {
     "name": "stdout",
     "output_type": "stream",
     "text": [
      "Requirement already satisfied: pymodbus in d:\\program files\\python312\\lib\\site-packages (3.6.6)\n"
     ]
    },
    {
     "name": "stderr",
     "output_type": "stream",
     "text": [
      "\n",
      "[notice] A new release of pip is available: 24.0 -> 24.1.2\n",
      "[notice] To update, run: python.exe -m pip install --upgrade pip\n"
     ]
    }
   ],
   "source": [
    "!pip install pymodbus"
   ]
  },
  {
   "cell_type": "markdown",
   "id": "3e531ccb-1b80-4110-83e2-476dd1a96b6a",
   "metadata": {},
   "source": [
    "# Import necessary functions"
   ]
  },
  {
   "cell_type": "code",
   "execution_count": 1,
   "id": "b303aaaf-4474-4b7b-a056-54e9a9336eec",
   "metadata": {},
   "outputs": [],
   "source": [
    "from pymodbus.client import ModbusTcpClient"
   ]
  },
  {
   "cell_type": "markdown",
   "id": "abb840c9-360f-43ee-84e8-c75a730409b4",
   "metadata": {},
   "source": [
    "# Create Modbus TCP Client to Connect with Modbus TCP/IP Device"
   ]
  },
  {
   "cell_type": "code",
   "execution_count": 2,
   "id": "d09184c9-4aa5-4d7a-90de-53b40c02617c",
   "metadata": {},
   "outputs": [],
   "source": [
    "IP_Address = '192.168.0.232'\n",
    "client = ModbusTcpClient(IP_Address)"
   ]
  },
  {
   "cell_type": "markdown",
   "id": "31dd5f2c-e58e-431f-8783-c5c247aad4dc",
   "metadata": {},
   "source": [
    "# Get Client Connection Status"
   ]
  },
  {
   "cell_type": "code",
   "execution_count": null,
   "id": "1ec2e561-1cfb-477f-8f62-f168f5d5e06c",
   "metadata": {},
   "outputs": [],
   "source": [
    "print(client.connect())"
   ]
  },
  {
   "cell_type": "markdown",
   "id": "ac143e56-6e54-4fb6-82fd-36ef03a9b2c1",
   "metadata": {},
   "source": [
    "# Read 10 Input Register Starting from 0 of Device ID 1"
   ]
  },
  {
   "cell_type": "code",
   "execution_count": 4,
   "id": "93945e28-4b2d-4515-a7df-2aa166de191b",
   "metadata": {},
   "outputs": [],
   "source": [
    "addresses = [256, 300, 512]  # List of starting addresses\n",
    "results = []\n",
    "\n",
    "for address in addresses:\n",
    "    result = client.read_input_registers(address=address, count=5, slave=1)\n",
    "    results.append(result.registers)"
   ]
  },
  {
   "cell_type": "code",
   "execution_count": 24,
   "id": "f544714a-bbf1-4c33-a735-0de2f0bd64e9",
   "metadata": {},
   "outputs": [],
   "source": [
    "flat_results = [reg for sublist in results for reg in sublist]"
   ]
  },
  {
   "cell_type": "code",
   "execution_count": null,
   "id": "8c1d5810-9145-4c44-abd7-83596cd13c6d",
   "metadata": {
    "jp-MarkdownHeadingCollapsed": true
   },
   "outputs": [],
   "source": [
    "# Print Value of 1st(0th) Input Register"
   ]
  },
  {
   "cell_type": "code",
   "execution_count": 26,
   "id": "f9407f4d-4249-4fd1-8d95-16e03cb9e95d",
   "metadata": {},
   "outputs": [
    {
     "data": {
      "text/plain": [
       "7988"
      ]
     },
     "execution_count": 26,
     "metadata": {},
     "output_type": "execute_result"
    }
   ],
   "source": [
    "result.registers[0]"
   ]
  },
  {
   "cell_type": "markdown",
   "id": "04225c58-e240-4fd7-a4f8-05ab9e3108d3",
   "metadata": {},
   "source": [
    "# Print Value of All Input Register"
   ]
  },
  {
   "cell_type": "code",
   "execution_count": 5,
   "id": "98753273-8b3a-4286-bae0-66542e8fc1b1",
   "metadata": {},
   "outputs": [
    {
     "data": {
      "text/plain": [
       "[7936, 3, 0, 80, 100]"
      ]
     },
     "execution_count": 5,
     "metadata": {},
     "output_type": "execute_result"
    }
   ],
   "source": [
    "result.registers"
   ]
  },
  {
   "cell_type": "code",
   "execution_count": null,
   "id": "4be0dd7e-cfe9-4d7c-a8e4-3f7aa19dfad7",
   "metadata": {},
   "outputs": [],
   "source": []
  }
 ],
 "metadata": {
  "kernelspec": {
   "display_name": "Python 3 (ipykernel)",
   "language": "python",
   "name": "python3"
  },
  "language_info": {
   "codemirror_mode": {
    "name": "ipython",
    "version": 3
   },
   "file_extension": ".py",
   "mimetype": "text/x-python",
   "name": "python",
   "nbconvert_exporter": "python",
   "pygments_lexer": "ipython3",
   "version": "3.12.6"
  }
 },
 "nbformat": 4,
 "nbformat_minor": 5
}
